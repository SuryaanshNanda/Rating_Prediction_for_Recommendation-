{
 "cells": [
  {
   "cell_type": "markdown",
   "id": "32051c72",
   "metadata": {},
   "source": [
    "# Calculation Of Cosine Similarity In User Base CSV (Reading file)"
   ]
  },
  {
   "cell_type": "code",
   "execution_count": 1,
   "id": "bebf70bd",
   "metadata": {},
   "outputs": [],
   "source": [
    "import pandas as pd\n",
    "import numpy as np\n",
    "from sklearn.metrics.pairwise import cosine_similarity as cs\n",
    "data=pd.read_csv(\"u5base.csv\")\n",
    "data.columns=['user']\n",
    "df=data['user'].str.split('\\t',expand=True)\n",
    "df.columns=['user','itemid','rating','timestamp']\n",
    "df.drop(columns=['timestamp'],inplace=True)\n",
    "#df.head()\n",
    "arr=df.to_numpy()\n",
    "#arr.shape\n",
    "arr=np.transpose(arr)\n",
    "#arr.shape\n",
    "#arr\n",
    "ar=np.empty((1000,1700))"
   ]
  },
  {
   "cell_type": "markdown",
   "id": "9b6dd96e",
   "metadata": {},
   "source": [
    "# 2d array of user and items where ratings are stored "
   ]
  },
  {
   "cell_type": "code",
   "execution_count": 3,
   "id": "e1559786",
   "metadata": {},
   "outputs": [],
   "source": [
    "for i in range(0,79999):\n",
    "    m=arr[0,i]\n",
    "    n=arr[1,i]\n",
    "    ar[int(m)-1,int(n)-1]=arr[2,i]"
   ]
  },
  {
   "cell_type": "code",
   "execution_count": 4,
   "id": "8c3baaa7",
   "metadata": {},
   "outputs": [],
   "source": [
    "ar[0,0]=5\n",
    "# Dataframe did not read the first row of csv file so I wrote it manually into my 2d array of user vs item."
   ]
  },
  {
   "cell_type": "code",
   "execution_count": 5,
   "id": "10cce744",
   "metadata": {},
   "outputs": [
    {
     "name": "stdout",
     "output_type": "stream",
     "text": [
      "[[1.         0.32902862 0.27977306 ... 0.         0.         0.        ]\n",
      " [0.32902862 1.         0.25761214 ... 0.         0.         0.        ]\n",
      " [0.27977306 0.25761214 1.         ... 0.         0.         0.        ]\n",
      " ...\n",
      " [0.         0.         0.         ... 0.         0.         0.        ]\n",
      " [0.         0.         0.         ... 0.         0.         0.        ]\n",
      " [0.         0.         0.         ... 0.         0.         0.        ]]\n"
     ]
    }
   ],
   "source": [
    "itemsim=cs(ar.T)\n",
    "print(itemsim)\n",
    "# cosine similarity matrix (Transpose for item based)"
   ]
  },
  {
   "cell_type": "markdown",
   "id": "23463b5e",
   "metadata": {},
   "source": [
    "# User test file"
   ]
  },
  {
   "cell_type": "code",
   "execution_count": 6,
   "id": "ec406a7e",
   "metadata": {},
   "outputs": [],
   "source": [
    "testdata=pd.read_csv(\"u5test.csv\")\n",
    "testdata.columns=['user']\n",
    "dff=testdata['user'].str.split('\\t',expand=True)\n",
    "dff.columns=['user','itemid','rating','timestamp']\n",
    "dat=[]\n",
    "dat.insert(0, {'user': 1,'itemid':3, 'rating':4, 'timestamp':235})\n",
    "dff=pd.concat([pd.DataFrame(dat), dff],ignore_index=True)\n",
    "dff.drop(columns=['timestamp'],inplace=True)\n",
    "#dff.head()\n",
    "\n"
   ]
  },
  {
   "cell_type": "code",
   "execution_count": 8,
   "id": "1ba58126",
   "metadata": {},
   "outputs": [
    {
     "data": {
      "text/html": [
       "<div>\n",
       "<style scoped>\n",
       "    .dataframe tbody tr th:only-of-type {\n",
       "        vertical-align: middle;\n",
       "    }\n",
       "\n",
       "    .dataframe tbody tr th {\n",
       "        vertical-align: top;\n",
       "    }\n",
       "\n",
       "    .dataframe thead th {\n",
       "        text-align: right;\n",
       "    }\n",
       "</style>\n",
       "<table border=\"1\" class=\"dataframe\">\n",
       "  <thead>\n",
       "    <tr style=\"text-align: right;\">\n",
       "      <th></th>\n",
       "      <th>user</th>\n",
       "      <th>itemid</th>\n",
       "      <th>rating</th>\n",
       "    </tr>\n",
       "  </thead>\n",
       "  <tbody>\n",
       "    <tr>\n",
       "      <th>0</th>\n",
       "      <td>1</td>\n",
       "      <td>3</td>\n",
       "      <td>4</td>\n",
       "    </tr>\n",
       "    <tr>\n",
       "      <th>1</th>\n",
       "      <td>1</td>\n",
       "      <td>13</td>\n",
       "      <td>5</td>\n",
       "    </tr>\n",
       "    <tr>\n",
       "      <th>2</th>\n",
       "      <td>1</td>\n",
       "      <td>15</td>\n",
       "      <td>5</td>\n",
       "    </tr>\n",
       "    <tr>\n",
       "      <th>3</th>\n",
       "      <td>1</td>\n",
       "      <td>18</td>\n",
       "      <td>4</td>\n",
       "    </tr>\n",
       "    <tr>\n",
       "      <th>4</th>\n",
       "      <td>1</td>\n",
       "      <td>19</td>\n",
       "      <td>5</td>\n",
       "    </tr>\n",
       "    <tr>\n",
       "      <th>...</th>\n",
       "      <td>...</td>\n",
       "      <td>...</td>\n",
       "      <td>...</td>\n",
       "    </tr>\n",
       "    <tr>\n",
       "      <th>19995</th>\n",
       "      <td>943</td>\n",
       "      <td>1028</td>\n",
       "      <td>2</td>\n",
       "    </tr>\n",
       "    <tr>\n",
       "      <th>19996</th>\n",
       "      <td>943</td>\n",
       "      <td>1044</td>\n",
       "      <td>3</td>\n",
       "    </tr>\n",
       "    <tr>\n",
       "      <th>19997</th>\n",
       "      <td>943</td>\n",
       "      <td>1047</td>\n",
       "      <td>2</td>\n",
       "    </tr>\n",
       "    <tr>\n",
       "      <th>19998</th>\n",
       "      <td>943</td>\n",
       "      <td>1228</td>\n",
       "      <td>3</td>\n",
       "    </tr>\n",
       "    <tr>\n",
       "      <th>19999</th>\n",
       "      <td>943</td>\n",
       "      <td>1330</td>\n",
       "      <td>3</td>\n",
       "    </tr>\n",
       "  </tbody>\n",
       "</table>\n",
       "<p>20000 rows × 3 columns</p>\n",
       "</div>"
      ],
      "text/plain": [
       "      user itemid rating\n",
       "0        1      3      4\n",
       "1        1     13      5\n",
       "2        1     15      5\n",
       "3        1     18      4\n",
       "4        1     19      5\n",
       "...    ...    ...    ...\n",
       "19995  943   1028      2\n",
       "19996  943   1044      3\n",
       "19997  943   1047      2\n",
       "19998  943   1228      3\n",
       "19999  943   1330      3\n",
       "\n",
       "[20000 rows x 3 columns]"
      ]
     },
     "execution_count": 8,
     "metadata": {},
     "output_type": "execute_result"
    }
   ],
   "source": [
    "dff"
   ]
  },
  {
   "cell_type": "code",
   "execution_count": 9,
   "id": "a603db23",
   "metadata": {},
   "outputs": [
    {
     "name": "stdout",
     "output_type": "stream",
     "text": [
      "15499.941306804638\n",
      "0.7749970653402319\n"
     ]
    }
   ],
   "source": [
    "diffsum=0\n",
    "for i in range(0,20000):\n",
    "    item=dff['itemid'].values[i]\n",
    "    \n",
    "\n",
    "    fuser=dff['user'].values[i]\n",
    "   # print(fuser)\n",
    "    mydict=dict()\n",
    "\n",
    "    for k in range(0,1700):\n",
    "        mydict[k]=itemsim[int(item)-1,k]\n",
    "   \n",
    "    game=sorted(mydict.items(),key=lambda kv:(kv[1], kv[0]),reverse=True)\n",
    "    bestones=dict(game)\n",
    "   # diffsum=0\n",
    "    \n",
    "    count=0\n",
    "    numer=0;\n",
    "    finale=0;\n",
    "    sumsim=0\n",
    "    for lockey in bestones.keys():\n",
    "        if(ar[int(fuser)-1,lockey]!=0):\n",
    "            sumsim=sumsim+itemsim[int(item)-1,lockey]\n",
    "            numer=numer+(itemsim[int(item)-1,lockey]*ar[int(fuser)-1,lockey])\n",
    "            count=count+1\n",
    "        if(count==30 and sumsim!=0):\n",
    "            break\n",
    "    \n",
    "    if(numer!=0):\n",
    "        \n",
    "        finale=(numer/sumsim)\n",
    "        diffsum=diffsum+(abs(int(dff['rating'].values[i])-finale))\n",
    "        #print(diffsum,dff['rating'].values[i],finale)\n",
    "       \n",
    "        \n",
    "    else:\n",
    "        finale=0\n",
    "        diffsum=diffsum +(abs(int(dff['rating'].values[i])-finale))\n",
    "print(diffsum)\n",
    "        \n",
    "print(diffsum/20000)"
   ]
  },
  {
   "cell_type": "code",
   "execution_count": 97,
   "id": "4f6cb660",
   "metadata": {},
   "outputs": [
    {
     "data": {
      "text/plain": [
       "0.7840846665398951"
      ]
     },
     "execution_count": 97,
     "metadata": {},
     "output_type": "execute_result"
    }
   ],
   "source": [
    "sam=0.7974215891035076+0.7824073944582755+0.7736945202020485+0.78008132367696+0.7868185052586841 \n",
    "ans=(sam/5)\n",
    "ans"
   ]
  }
 ],
 "metadata": {
  "kernelspec": {
   "display_name": "Python 3",
   "language": "python",
   "name": "python3"
  },
  "language_info": {
   "codemirror_mode": {
    "name": "ipython",
    "version": 3
   },
   "file_extension": ".py",
   "mimetype": "text/x-python",
   "name": "python",
   "nbconvert_exporter": "python",
   "pygments_lexer": "ipython3",
   "version": "3.9.1"
  }
 },
 "nbformat": 4,
 "nbformat_minor": 5
}
