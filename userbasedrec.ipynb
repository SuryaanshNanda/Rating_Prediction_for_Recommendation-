{
 "cells": [
  {
   "cell_type": "markdown",
   "id": "1ce98211",
   "metadata": {},
   "source": [
    "# Calculation Of Cosine Similarity In User Base CSV (Reading file)"
   ]
  },
  {
   "cell_type": "code",
   "execution_count": 34,
   "id": "5c80e4dc",
   "metadata": {},
   "outputs": [],
   "source": [
    "import pandas as pd\n",
    "import numpy as np\n",
    "from sklearn.metrics.pairwise import cosine_similarity as cs\n",
    "data=pd.read_csv(\"u1base.csv\")\n",
    "data.columns=['user']\n",
    "df=data['user'].str.split('\\t',expand=True)\n",
    "df.columns=['user','itemid','rating','timestamp']\n",
    "df.drop(columns=['timestamp'],inplace=True)\n",
    "#df.head()\n",
    "arr=df.to_numpy()\n",
    "#arr.shape\n",
    "arr=np.transpose(arr)\n",
    "#arr.shape\n",
    "#arr\n",
    "ar=np.empty((1000,1700))\n",
    "\n",
    "\n",
    "#trans= df.groupby(by=['user'])['itemid'].apply(list).reset_index()\n",
    "#trans\n",
    "#comusers=df[df['itemid'].isin(trans['itemid'].tolist())]\n",
    "\n"
   ]
  },
  {
   "cell_type": "markdown",
   "id": "8b980e99",
   "metadata": {},
   "source": [
    "# 2d array of user and items where ratings are stored "
   ]
  },
  {
   "cell_type": "code",
   "execution_count": 35,
   "id": "f1be2924",
   "metadata": {},
   "outputs": [],
   "source": [
    "\n",
    "    \n",
    "\n",
    "for i in range(0,79999):\n",
    "    m=arr[0,i]\n",
    "    n=arr[1,i]\n",
    "    ar[int(m)-1,int(n)-1]=arr[2,i]\n",
    "\n"
   ]
  },
  {
   "cell_type": "code",
   "execution_count": 36,
   "id": "0892cef3",
   "metadata": {},
   "outputs": [],
   "source": [
    "ar[0,0]=5\n",
    "# Dataframe did not read the first row of csv file so I wrote it manually into my 2d array of user vs item."
   ]
  },
  {
   "cell_type": "code",
   "execution_count": 37,
   "id": "0d0167d1",
   "metadata": {},
   "outputs": [
    {
     "data": {
      "text/plain": [
       "(1000, 1700)"
      ]
     },
     "execution_count": 37,
     "metadata": {},
     "output_type": "execute_result"
    }
   ],
   "source": [
    "ar.shape"
   ]
  },
  {
   "cell_type": "code",
   "execution_count": 38,
   "id": "8659fba7",
   "metadata": {},
   "outputs": [
    {
     "data": {
      "text/plain": [
       "3.0"
      ]
     },
     "execution_count": 38,
     "metadata": {},
     "output_type": "execute_result"
    }
   ],
   "source": [
    "ar[0,3]"
   ]
  },
  {
   "cell_type": "code",
   "execution_count": 39,
   "id": "6e1e3770",
   "metadata": {},
   "outputs": [
    {
     "name": "stdout",
     "output_type": "stream",
     "text": [
      "[[1.         0.09702087 0.05246924 ... 0.         0.         0.        ]\n",
      " [0.09702087 1.         0.05134808 ... 0.         0.         0.        ]\n",
      " [0.05246924 0.05134808 1.         ... 0.         0.         0.        ]\n",
      " ...\n",
      " [0.         0.         0.         ... 0.         0.         0.        ]\n",
      " [0.         0.         0.         ... 0.         0.         0.        ]\n",
      " [0.         0.         0.         ... 0.         0.         0.        ]]\n"
     ]
    }
   ],
   "source": [
    "usersim=cs(ar)\n",
    "print(usersim)\n",
    "# cosine similarity matrix "
   ]
  },
  {
   "cell_type": "code",
   "execution_count": 40,
   "id": "d2cc4627",
   "metadata": {},
   "outputs": [
    {
     "data": {
      "text/plain": [
       "0.10178363439458571"
      ]
     },
     "execution_count": 40,
     "metadata": {},
     "output_type": "execute_result"
    }
   ],
   "source": [
    "usersim[1,942]"
   ]
  },
  {
   "cell_type": "markdown",
   "id": "d0216b4d",
   "metadata": {},
   "source": [
    "# User test File"
   ]
  },
  {
   "cell_type": "code",
   "execution_count": 41,
   "id": "92588176",
   "metadata": {},
   "outputs": [],
   "source": [
    "testdata=pd.read_csv(\"u1test.csv\")\n",
    "testdata.columns=['user']\n",
    "dff=testdata['user'].str.split('\\t',expand=True)\n",
    "dff.columns=['user','itemid','rating','timestamp']\n",
    "dat=[]\n",
    "dat.insert(0, {'user': 1,'itemid':6, 'rating':5, 'timestamp':235})\n",
    "dff=pd.concat([pd.DataFrame(dat), dff],ignore_index=True)\n",
    "dff.drop(columns=['timestamp'],inplace=True)\n",
    "#dff.head()\n",
    "\n"
   ]
  },
  {
   "cell_type": "code",
   "execution_count": 42,
   "id": "5b31ecf6",
   "metadata": {},
   "outputs": [
    {
     "data": {
      "text/plain": [
       "6"
      ]
     },
     "execution_count": 42,
     "metadata": {},
     "output_type": "execute_result"
    }
   ],
   "source": [
    "dff['itemid'].values[0]"
   ]
  },
  {
   "cell_type": "code",
   "execution_count": 43,
   "id": "3ac7f1ee",
   "metadata": {},
   "outputs": [
    {
     "data": {
      "text/html": [
       "<div>\n",
       "<style scoped>\n",
       "    .dataframe tbody tr th:only-of-type {\n",
       "        vertical-align: middle;\n",
       "    }\n",
       "\n",
       "    .dataframe tbody tr th {\n",
       "        vertical-align: top;\n",
       "    }\n",
       "\n",
       "    .dataframe thead th {\n",
       "        text-align: right;\n",
       "    }\n",
       "</style>\n",
       "<table border=\"1\" class=\"dataframe\">\n",
       "  <thead>\n",
       "    <tr style=\"text-align: right;\">\n",
       "      <th></th>\n",
       "      <th>user</th>\n",
       "      <th>itemid</th>\n",
       "      <th>rating</th>\n",
       "    </tr>\n",
       "  </thead>\n",
       "  <tbody>\n",
       "    <tr>\n",
       "      <th>0</th>\n",
       "      <td>1</td>\n",
       "      <td>6</td>\n",
       "      <td>5</td>\n",
       "    </tr>\n",
       "    <tr>\n",
       "      <th>1</th>\n",
       "      <td>1</td>\n",
       "      <td>10</td>\n",
       "      <td>3</td>\n",
       "    </tr>\n",
       "    <tr>\n",
       "      <th>2</th>\n",
       "      <td>1</td>\n",
       "      <td>12</td>\n",
       "      <td>5</td>\n",
       "    </tr>\n",
       "    <tr>\n",
       "      <th>3</th>\n",
       "      <td>1</td>\n",
       "      <td>14</td>\n",
       "      <td>5</td>\n",
       "    </tr>\n",
       "    <tr>\n",
       "      <th>4</th>\n",
       "      <td>1</td>\n",
       "      <td>17</td>\n",
       "      <td>3</td>\n",
       "    </tr>\n",
       "    <tr>\n",
       "      <th>...</th>\n",
       "      <td>...</td>\n",
       "      <td>...</td>\n",
       "      <td>...</td>\n",
       "    </tr>\n",
       "    <tr>\n",
       "      <th>19995</th>\n",
       "      <td>458</td>\n",
       "      <td>648</td>\n",
       "      <td>4</td>\n",
       "    </tr>\n",
       "    <tr>\n",
       "      <th>19996</th>\n",
       "      <td>458</td>\n",
       "      <td>1101</td>\n",
       "      <td>4</td>\n",
       "    </tr>\n",
       "    <tr>\n",
       "      <th>19997</th>\n",
       "      <td>459</td>\n",
       "      <td>934</td>\n",
       "      <td>3</td>\n",
       "    </tr>\n",
       "    <tr>\n",
       "      <th>19998</th>\n",
       "      <td>460</td>\n",
       "      <td>10</td>\n",
       "      <td>3</td>\n",
       "    </tr>\n",
       "    <tr>\n",
       "      <th>19999</th>\n",
       "      <td>462</td>\n",
       "      <td>682</td>\n",
       "      <td>5</td>\n",
       "    </tr>\n",
       "  </tbody>\n",
       "</table>\n",
       "<p>20000 rows × 3 columns</p>\n",
       "</div>"
      ],
      "text/plain": [
       "      user itemid rating\n",
       "0        1      6      5\n",
       "1        1     10      3\n",
       "2        1     12      5\n",
       "3        1     14      5\n",
       "4        1     17      3\n",
       "...    ...    ...    ...\n",
       "19995  458    648      4\n",
       "19996  458   1101      4\n",
       "19997  459    934      3\n",
       "19998  460     10      3\n",
       "19999  462    682      5\n",
       "\n",
       "[20000 rows x 3 columns]"
      ]
     },
     "execution_count": 43,
     "metadata": {},
     "output_type": "execute_result"
    }
   ],
   "source": [
    "dff"
   ]
  },
  {
   "cell_type": "code",
   "execution_count": 44,
   "id": "6e2dc24c",
   "metadata": {},
   "outputs": [
    {
     "name": "stdout",
     "output_type": "stream",
     "text": [
      "16360.707759422467\n",
      "0.8180353879711233\n"
     ]
    }
   ],
   "source": [
    "diffsum=0\n",
    "for i in range(0,20000):\n",
    "    item=dff['itemid'].values[i]\n",
    "    \n",
    "\n",
    "    fuser=dff['user'].values[i]\n",
    "   # print(fuser)\n",
    "    mydict=dict()\n",
    "\n",
    "    for k in range(0,1000):\n",
    "        mydict[k]=usersim[int(fuser)-1,k]\n",
    "   \n",
    "    game=sorted(mydict.items(),key=lambda kv:(kv[1], kv[0]),reverse=True)\n",
    "    bestones=dict(game)\n",
    "   # diffsum=0\n",
    "    \n",
    "    count=0\n",
    "    numer=0;\n",
    "    finale=0;\n",
    "    sumsim=0\n",
    "    for lockey in bestones.keys():\n",
    "        if(ar[lockey,int(item)-1]!=0):\n",
    "            sumsim=sumsim+usersim[int(fuser)-1,lockey]\n",
    "            numer=numer+(usersim[int(fuser)-1,lockey]*ar[lockey,int(item)-1])\n",
    "            count=count+1\n",
    "        if(count==20 and sumsim!=0):\n",
    "            break\n",
    "    \n",
    "    if(numer!=0):\n",
    "        \n",
    "        finale=(numer/sumsim)\n",
    "        diffsum=diffsum+(abs(int(dff['rating'].values[i])-finale))\n",
    "        #print(diffsum,dff['rating'].values[i],finale)\n",
    "       \n",
    "        \n",
    "    else:\n",
    "        finale=0\n",
    "        diffsum=diffsum +(abs(int(dff['rating'].values[i])-finale))\n",
    "print(diffsum)\n",
    "        \n",
    "print(diffsum/20000)"
   ]
  },
  {
   "cell_type": "code",
   "execution_count": 230,
   "id": "81563e8a",
   "metadata": {},
   "outputs": [
    {
     "data": {
      "text/plain": [
       "0.8073679184108753"
      ]
     },
     "execution_count": 230,
     "metadata": {},
     "output_type": "execute_result"
    }
   ],
   "source": [
    "sam=0.8176979135140835+0.8085302604624843+0.8025167390962511+0.8004523904776387+0.8076422885039188 \n",
    "ans=(sam/5)\n",
    "ans\n"
   ]
  }
 ],
 "metadata": {
  "kernelspec": {
   "display_name": "Python 3",
   "language": "python",
   "name": "python3"
  },
  "language_info": {
   "codemirror_mode": {
    "name": "ipython",
    "version": 3
   },
   "file_extension": ".py",
   "mimetype": "text/x-python",
   "name": "python",
   "nbconvert_exporter": "python",
   "pygments_lexer": "ipython3",
   "version": "3.9.1"
  },
  "vscode": {
   "interpreter": {
    "hash": "369f2c481f4da34e4445cda3fffd2e751bd1c4d706f27375911949ba6bb62e1c"
   }
  }
 },
 "nbformat": 4,
 "nbformat_minor": 5
}
